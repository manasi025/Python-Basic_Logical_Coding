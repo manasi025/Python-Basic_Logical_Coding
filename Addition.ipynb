{
 "cells": [
  {
   "cell_type": "markdown",
   "id": "c52c1b0f-5819-40fb-b62e-ff8a50acea88",
   "metadata": {},
   "source": [
    "1) Program to add 2 nos."
   ]
  },
  {
   "cell_type": "code",
   "execution_count": 2,
   "id": "18625acd-481a-4ba2-8d8b-c32116543130",
   "metadata": {},
   "outputs": [
    {
     "name": "stdout",
     "output_type": "stream",
     "text": [
      "Sum of given nos. is : 8\n"
     ]
    }
   ],
   "source": [
    "num1 = 3\n",
    "num2 = 5\n",
    "sum = num1+num2\n",
    "print(\"Sum of given nos. is :\",sum)"
   ]
  },
  {
   "cell_type": "markdown",
   "id": "cd0772c2-67fa-4855-ab66-9f81deaced68",
   "metadata": {},
   "source": [
    "2) User defined program to add 2 nos."
   ]
  },
  {
   "cell_type": "code",
   "execution_count": 4,
   "id": "0e67b25d-fdce-4bf8-9071-4d96de2f87e8",
   "metadata": {},
   "outputs": [
    {
     "name": "stdin",
     "output_type": "stream",
     "text": [
      "Enter 1st no. to be added :  2\n",
      "Enter 2nd no. to be added :  3\n"
     ]
    },
    {
     "name": "stdout",
     "output_type": "stream",
     "text": [
      "Sum of given nos. is : 5.0\n"
     ]
    }
   ],
   "source": [
    "num1 = input(\"Enter 1st no. to be added : \")\n",
    "num2 = input(\"Enter 2nd no. to be added : \")\n",
    "sum = float(num1) + float(num2)\n",
    "print(\"Sum of given nos. is :\",sum)"
   ]
  },
  {
   "cell_type": "markdown",
   "id": "4dee19a2-3d61-483c-ad04-dcb10e6bf171",
   "metadata": {},
   "source": [
    "3) Program to add 2 nos. using Function"
   ]
  },
  {
   "cell_type": "code",
   "execution_count": 6,
   "id": "08283f05-3817-4890-8d6b-d95296a1c247",
   "metadata": {},
   "outputs": [
    {
     "name": "stdout",
     "output_type": "stream",
     "text": [
      "Sum of given nos. is : 30\n"
     ]
    }
   ],
   "source": [
    "def add(a,b):\n",
    "    return a+b\n",
    "no1 = 20\n",
    "no2 = 10\n",
    "sum = add(no1, no2)\n",
    "print(\"Sum of given nos. is :\",sum)"
   ]
  },
  {
   "cell_type": "markdown",
   "id": "0d808a72-3da0-4813-a0af-d5368637f3f9",
   "metadata": {},
   "source": [
    "4) Program to add 2 nos. using Lambda function"
   ]
  },
  {
   "cell_type": "code",
   "execution_count": 7,
   "id": "79ce1c56-eaca-4048-b379-6b0f9cc88899",
   "metadata": {},
   "outputs": [
    {
     "name": "stdout",
     "output_type": "stream",
     "text": [
      "Addition of given nos. is : 48\n"
     ]
    }
   ],
   "source": [
    "nos = lambda a,b : a+b\n",
    "num1 = 45\n",
    "num2 = 3\n",
    "add = nos(num1, num2)\n",
    "print(\"Addition of given nos. is :\", add)"
   ]
  },
  {
   "cell_type": "code",
   "execution_count": null,
   "id": "de1095d2-b25f-4be4-ad3b-3a3d68d5468f",
   "metadata": {},
   "outputs": [],
   "source": []
  }
 ],
 "metadata": {
  "kernelspec": {
   "display_name": "Python 3 (ipykernel)",
   "language": "python",
   "name": "python3"
  },
  "language_info": {
   "codemirror_mode": {
    "name": "ipython",
    "version": 3
   },
   "file_extension": ".py",
   "mimetype": "text/x-python",
   "name": "python",
   "nbconvert_exporter": "python",
   "pygments_lexer": "ipython3",
   "version": "3.11.7"
  }
 },
 "nbformat": 4,
 "nbformat_minor": 5
}
